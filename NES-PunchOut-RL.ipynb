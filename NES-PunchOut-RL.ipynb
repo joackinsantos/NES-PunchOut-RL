{
 "cells": [
  {
   "cell_type": "markdown",
   "id": "3f73cf86",
   "metadata": {},
   "source": [
    "# Environment Setup"
   ]
  },
  {
   "cell_type": "code",
   "execution_count": 2,
   "id": "01d55261",
   "metadata": {},
   "outputs": [
    {
     "data": {
      "text/plain": [
       "'c:\\\\Users\\\\Joackin\\\\Documents\\\\GitHub\\\\NES-PunchOut-RL'"
      ]
     },
     "execution_count": 2,
     "metadata": {},
     "output_type": "execute_result"
    }
   ],
   "source": [
    "import os\n",
    "current_directory = os.getcwd()\n",
    "current_directory"
   ]
  },
  {
   "cell_type": "code",
   "execution_count": 6,
   "id": "94c2250f",
   "metadata": {},
   "outputs": [
    {
     "ename": "ImportError",
     "evalue": "cannot import name 'NESHeadless' from 'nes_py' (c:\\Users\\Joackin\\Documents\\GitHub\\NES-PunchOut-RL\\my_env\\Lib\\site-packages\\nes_py\\__init__.py)",
     "output_type": "error",
     "traceback": [
      "\u001b[1;31m---------------------------------------------------------------------------\u001b[0m",
      "\u001b[1;31mImportError\u001b[0m                               Traceback (most recent call last)",
      "\u001b[1;32mc:\\Users\\Joackin\\Documents\\GitHub\\NES-PunchOut-RL\\NES-PunchOut-RL.ipynb Cell 3\u001b[0m line \u001b[0;36m4\n\u001b[0;32m      <a href='vscode-notebook-cell:/c%3A/Users/Joackin/Documents/GitHub/NES-PunchOut-RL/NES-PunchOut-RL.ipynb#W2sZmlsZQ%3D%3D?line=0'>1</a>\u001b[0m \u001b[39m# using pyntendo\u001b[39;00m\n\u001b[0;32m      <a href='vscode-notebook-cell:/c%3A/Users/Joackin/Documents/GitHub/NES-PunchOut-RL/NES-PunchOut-RL.ipynb#W2sZmlsZQ%3D%3D?line=1'>2</a>\u001b[0m \u001b[39m# from nes import NES\u001b[39;00m\n\u001b[0;32m      <a href='vscode-notebook-cell:/c%3A/Users/Joackin/Documents/GitHub/NES-PunchOut-RL/NES-PunchOut-RL.ipynb#W2sZmlsZQ%3D%3D?line=2'>3</a>\u001b[0m \u001b[39m# using nes_py\u001b[39;00m\n\u001b[1;32m----> <a href='vscode-notebook-cell:/c%3A/Users/Joackin/Documents/GitHub/NES-PunchOut-RL/NES-PunchOut-RL.ipynb#W2sZmlsZQ%3D%3D?line=3'>4</a>\u001b[0m \u001b[39mfrom\u001b[39;00m \u001b[39mnes_py\u001b[39;00m \u001b[39mimport\u001b[39;00m NESHeadless\n",
      "\u001b[1;31mImportError\u001b[0m: cannot import name 'NESHeadless' from 'nes_py' (c:\\Users\\Joackin\\Documents\\GitHub\\NES-PunchOut-RL\\my_env\\Lib\\site-packages\\nes_py\\__init__.py)"
     ]
    }
   ],
   "source": [
    "# using pyntendo\n",
    "from nes import NES\n",
    "# using nes_py\n",
    "# from nes_py import NESHeadless"
   ]
  },
  {
   "cell_type": "code",
   "execution_count": 4,
   "id": "533de979",
   "metadata": {},
   "outputs": [
    {
     "ename": "ValueError",
     "evalue": "ROM header zero fill bytes are not zero.",
     "output_type": "error",
     "traceback": [
      "\u001b[1;31m---------------------------------------------------------------------------\u001b[0m",
      "\u001b[1;31mValueError\u001b[0m                                Traceback (most recent call last)",
      "\u001b[1;32mc:\\Users\\Joackin\\Documents\\GitHub\\NES-PunchOut-RL\\NES-PunchOut-RL.ipynb Cell 4\u001b[0m line \u001b[0;36m4\n\u001b[0;32m      <a href='vscode-notebook-cell:/c%3A/Users/Joackin/Documents/GitHub/NES-PunchOut-RL/NES-PunchOut-RL.ipynb#W4sZmlsZQ%3D%3D?line=0'>1</a>\u001b[0m \u001b[39m# nes = NES(\"PunchOut.nes\")\u001b[39;00m\n\u001b[0;32m      <a href='vscode-notebook-cell:/c%3A/Users/Joackin/Documents/GitHub/NES-PunchOut-RL/NES-PunchOut-RL.ipynb#W4sZmlsZQ%3D%3D?line=1'>2</a>\u001b[0m \u001b[39m# nes.run()\u001b[39;00m\n\u001b[1;32m----> <a href='vscode-notebook-cell:/c%3A/Users/Joackin/Documents/GitHub/NES-PunchOut-RL/NES-PunchOut-RL.ipynb#W4sZmlsZQ%3D%3D?line=3'>4</a>\u001b[0m nes \u001b[39m=\u001b[39m NESEnv(\u001b[39m\"\u001b[39;49m\u001b[39mPunchOut.nes\u001b[39;49m\u001b[39m\"\u001b[39;49m)\n",
      "File \u001b[1;32mc:\\Users\\Joackin\\Documents\\GitHub\\NES-PunchOut-RL\\my_env\\Lib\\site-packages\\nes_py\\nes_env.py:118\u001b[0m, in \u001b[0;36mNESEnv.__init__\u001b[1;34m(self, rom_path)\u001b[0m\n\u001b[0;32m    107\u001b[0m \u001b[39m\u001b[39m\u001b[39m\"\"\"\u001b[39;00m\n\u001b[0;32m    108\u001b[0m \u001b[39mCreate a new NES environment.\u001b[39;00m\n\u001b[0;32m    109\u001b[0m \n\u001b[1;32m   (...)\u001b[0m\n\u001b[0;32m    115\u001b[0m \n\u001b[0;32m    116\u001b[0m \u001b[39m\"\"\"\u001b[39;00m\n\u001b[0;32m    117\u001b[0m \u001b[39m# create a ROM file from the ROM path\u001b[39;00m\n\u001b[1;32m--> 118\u001b[0m rom \u001b[39m=\u001b[39m ROM(rom_path)\n\u001b[0;32m    119\u001b[0m \u001b[39m# check that there is PRG ROM\u001b[39;00m\n\u001b[0;32m    120\u001b[0m \u001b[39mif\u001b[39;00m rom\u001b[39m.\u001b[39mprg_rom_size \u001b[39m==\u001b[39m \u001b[39m0\u001b[39m:\n",
      "File \u001b[1;32mc:\\Users\\Joackin\\Documents\\GitHub\\NES-PunchOut-RL\\my_env\\Lib\\site-packages\\nes_py\\_rom.py:41\u001b[0m, in \u001b[0;36mROM.__init__\u001b[1;34m(self, rom_path)\u001b[0m\n\u001b[0;32m     39\u001b[0m     \u001b[39mraise\u001b[39;00m \u001b[39mValueError\u001b[39;00m(\u001b[39m'\u001b[39m\u001b[39mROM missing magic number in header.\u001b[39m\u001b[39m'\u001b[39m)\n\u001b[0;32m     40\u001b[0m \u001b[39mif\u001b[39;00m \u001b[39mself\u001b[39m\u001b[39m.\u001b[39m_zero_fill \u001b[39m!=\u001b[39m \u001b[39m0\u001b[39m:\n\u001b[1;32m---> 41\u001b[0m     \u001b[39mraise\u001b[39;00m \u001b[39mValueError\u001b[39;00m(\u001b[39m\"\u001b[39m\u001b[39mROM header zero fill bytes are not zero.\u001b[39m\u001b[39m\"\u001b[39m)\n",
      "\u001b[1;31mValueError\u001b[0m: ROM header zero fill bytes are not zero."
     ]
    }
   ],
   "source": [
    "# nes = NES(\"PunchOut.nes\")\n",
    "# nes.run()\n",
    "\n",
    "nes = NESEnv(\"PunchOut.nes\")"
   ]
  }
 ],
 "metadata": {
  "kernelspec": {
   "display_name": "Python 3 (ipykernel)",
   "language": "python",
   "name": "python3"
  },
  "language_info": {
   "codemirror_mode": {
    "name": "ipython",
    "version": 3
   },
   "file_extension": ".py",
   "mimetype": "text/x-python",
   "name": "python",
   "nbconvert_exporter": "python",
   "pygments_lexer": "ipython3",
   "version": "3.11.2"
  }
 },
 "nbformat": 4,
 "nbformat_minor": 5
}
