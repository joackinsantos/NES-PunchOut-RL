{
 "cells": [
  {
   "cell_type": "markdown",
   "id": "3f73cf86",
   "metadata": {},
   "source": [
    "# Environment Setup"
   ]
  },
  {
   "cell_type": "code",
   "execution_count": 30,
   "id": "01d55261",
   "metadata": {},
   "outputs": [
    {
     "data": {
      "text/plain": [
       "'c:\\\\Users\\\\Joackin\\\\Documents\\\\GitHub\\\\NES-PunchOut-RL'"
      ]
     },
     "execution_count": 30,
     "metadata": {},
     "output_type": "execute_result"
    }
   ],
   "source": [
    "import os\n",
    "current_directory = os.getcwd()\n",
    "current_directory"
   ]
  },
  {
   "cell_type": "code",
   "execution_count": 34,
   "id": "cd68d061",
   "metadata": {},
   "outputs": [],
   "source": [
    "# Uses built-in NES library\n",
    "from cynes import NES, NESHeadless\n",
    "import time, sdl2\n",
    "\n",
    "nes = NES(\"PunchOut.nes\")\n",
    "\n",
    "def kill():\n",
    "    nes.close()\n",
    "nes.register(sdl2.SDL_SCANCODE_0, kill)\n",
    "\n",
    "while not nes.should_close():\n",
    "    frame = nes.step()\n",
    "    time.sleep(1/180) #(1/desired_fps)\n"
   ]
  }
 ],
 "metadata": {
  "kernelspec": {
   "display_name": "Python 3 (ipykernel)",
   "language": "python",
   "name": "python3"
  },
  "language_info": {
   "codemirror_mode": {
    "name": "ipython",
    "version": 3
   },
   "file_extension": ".py",
   "mimetype": "text/x-python",
   "name": "python",
   "nbconvert_exporter": "python",
   "pygments_lexer": "ipython3",
   "version": "3.11.2"
  }
 },
 "nbformat": 4,
 "nbformat_minor": 5
}
