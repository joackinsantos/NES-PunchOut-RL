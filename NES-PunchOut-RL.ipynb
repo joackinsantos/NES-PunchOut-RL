{
 "cells": [
  {
   "cell_type": "markdown",
   "id": "3f73cf86",
   "metadata": {},
   "source": [
    "# Environment Setup"
   ]
  },
  {
   "cell_type": "code",
   "execution_count": 20,
   "id": "01d55261",
   "metadata": {},
   "outputs": [
    {
     "name": "stdout",
     "output_type": "stream",
     "text": [
      "pygame 2.5.2 (SDL 2.28.4, Python 3.11.2)\n",
      "Hello from the pygame community. https://www.pygame.org/contribute.html\n"
     ]
    },
    {
     "data": {
      "text/plain": [
       "'c:\\\\Users\\\\Joackin\\\\Documents\\\\GitHub\\\\NES-PunchOut-RL'"
      ]
     },
     "execution_count": 20,
     "metadata": {},
     "output_type": "execute_result"
    }
   ],
   "source": [
    "import os, time, pygame\n",
    "current_directory = os.getcwd()\n",
    "current_directory"
   ]
  },
  {
   "cell_type": "code",
   "execution_count": 28,
   "id": "cd68d061",
   "metadata": {},
   "outputs": [],
   "source": [
    "from cynes import NES, NESHeadless\n",
    "nes = NES(\"PunchOut.nes\")\n",
    "\n",
    "def kill():\n",
    "    nes.close()\n",
    "    nes.should_close()\n",
    "\n",
    "while not nes.should_close():\n",
    "    frame = nes.step()\n",
    "    time.sleep(1/180) #(1/desired_fps)\n",
    "    nes.register(pygame.K_SPACE, kill)"
   ]
  },
  {
   "cell_type": "code",
   "execution_count": 27,
   "id": "a1f680e0",
   "metadata": {},
   "outputs": [],
   "source": [
    "# help(nes.register)\n",
    "nes.close()"
   ]
  }
 ],
 "metadata": {
  "kernelspec": {
   "display_name": "Python 3 (ipykernel)",
   "language": "python",
   "name": "python3"
  },
  "language_info": {
   "codemirror_mode": {
    "name": "ipython",
    "version": 3
   },
   "file_extension": ".py",
   "mimetype": "text/x-python",
   "name": "python",
   "nbconvert_exporter": "python",
   "pygments_lexer": "ipython3",
   "version": "3.11.2"
  }
 },
 "nbformat": 4,
 "nbformat_minor": 5
}
